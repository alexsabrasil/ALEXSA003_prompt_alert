{
  "nbformat": 4,
  "nbformat_minor": 0,
  "metadata": {
    "colab": {
      "provenance": [],
      "authorship_tag": "ABX9TyPKovR8L26uBc38gugE91Xl",
      "include_colab_link": true
    },
    "kernelspec": {
      "name": "python3",
      "display_name": "Python 3"
    },
    "language_info": {
      "name": "python"
    }
  },
  "cells": [
    {
      "cell_type": "markdown",
      "metadata": {
        "id": "view-in-github",
        "colab_type": "text"
      },
      "source": [
        "<a href=\"https://colab.research.google.com/github/alexsabrasil/ALEXSA003_prompt_alert/blob/main/Treinamento_SQL.ipynb\" target=\"_parent\"><img src=\"https://colab.research.google.com/assets/colab-badge.svg\" alt=\"Open In Colab\"/></a>"
      ]
    },
    {
      "cell_type": "markdown",
      "source": [
        "##**Treinamento SQL em Python**\n"
      ],
      "metadata": {
        "id": "A1zWg1xEBmpi"
      }
    },
    {
      "cell_type": "markdown",
      "source": [
        "####**Pergunta: Como você faria para encontrar registros duplicados em uma tabela no banco de dados?**"
      ],
      "metadata": {
        "id": "JfZokagEBaT0"
      }
    },
    {
      "cell_type": "markdown",
      "source": [
        "**Respondendo:** Para encontrar registros duplicados, usaria a cláusula **GROUP BY** em conjunto com a função **COUNT()**. Por exemplo, se eu quiser encontrar duplicados em uma coluna como email, faria algo assim:"
      ],
      "metadata": {
        "id": "1aukSDHaHopK"
      }
    },
    {
      "cell_type": "code",
      "source": [
        "import sqlite3\n",
        "import pandas as pd\n",
        "\n",
        "# Criar um banco de dados em memória\n",
        "conn = sqlite3.connect(\":memory:\")\n",
        "cursor = conn.cursor()\n",
        "\n",
        "# Criar e popular a tabela \"tabela\" para o primeiro exemplo\n",
        "cursor.execute(\"\"\"\n",
        "CREATE TABLE tabela (\n",
        "    email TEXT\n",
        ");\n",
        "\"\"\")\n",
        "\n",
        "# Inserir dados fictícios\n",
        "cursor.executemany(\"INSERT INTO tabela (email) VALUES (?)\", [\n",
        "    (\"email1@example.com\",),\n",
        "    (\"email2@example.com\",),\n",
        "    (\"email1@example.com\",),  # Duplicado\n",
        "    (\"email3@example.com\",),\n",
        "    (\"email2@example.com\",),  # Duplicado\n",
        "])\n",
        "\n",
        "# Query para encontrar duplicados\n",
        "query1 = \"\"\"\n",
        "SELECT email, COUNT(*) AS quantidade\n",
        "FROM tabela\n",
        "GROUP BY email\n",
        "HAVING COUNT(*) > 1;\n",
        "\"\"\"\n",
        "result1 = pd.read_sql_query(query1, conn)\n",
        "print(\"Duplicados encontrados:\")\n",
        "print(result1)"
      ],
      "metadata": {
        "colab": {
          "base_uri": "https://localhost:8080/"
        },
        "id": "jnVpG_HFFSE_",
        "outputId": "da2149e3-46e9-40ca-c3e4-20635ef16a34"
      },
      "execution_count": 13,
      "outputs": [
        {
          "output_type": "stream",
          "name": "stdout",
          "text": [
            "Duplicados encontrados:\n",
            "                email  quantidade\n",
            "0  email1@example.com           2\n",
            "1  email2@example.com           2\n"
          ]
        }
      ]
    },
    {
      "cell_type": "markdown",
      "source": [
        "###Isso me mostraria os valores duplicados na coluna email e quantas vezes eles aparecem."
      ],
      "metadata": {
        "id": "8A6_3YNLID--"
      }
    },
    {
      "cell_type": "markdown",
      "source": [
        "####Cenário: **Um gestor pede que você escreva uma consulta SQL para listar os nomes de clientes que fizeram mais de 5 compras em um mês específico.**"
      ],
      "metadata": {
        "id": "gfj9IR_WDjCC"
      }
    },
    {
      "cell_type": "markdown",
      "source": [
        "####**Explique enquanto escreve:**\n",
        "Estou juntando as tabelas clientes e vendas pela *chave estrangeira* **id_cliente**. *Filtrei as vendas para o mês específico* usando a função **DATE_FORMAT**. Por fim, *agrupei os clientes* e usei **HAVING** para exibir apenas aqueles com mais de **5 compras**."
      ],
      "metadata": {
        "id": "5XRhynHsGxAp"
      }
    },
    {
      "cell_type": "code",
      "source": [
        "import sqlite3\n",
        "import pandas as pd\n",
        "\n",
        "# Criar as tabelas \"clientes\" e \"vendas\" para o segundo exemplo\n",
        "cursor.execute(\"\"\"\n",
        "CREATE TABLE clientes (\n",
        "    id_cliente INTEGER PRIMARY KEY,\n",
        "    nome_cliente TEXT\n",
        ");\n",
        "\"\"\")\n",
        "cursor.execute(\"\"\"\n",
        "CREATE TABLE vendas (\n",
        "    id_venda INTEGER PRIMARY KEY,\n",
        "    id_cliente INTEGER,\n",
        "    data_venda TEXT,\n",
        "    FOREIGN KEY (id_cliente) REFERENCES clientes (id_cliente)\n",
        ");\n",
        "\"\"\")\n",
        "\n",
        "# Inserir dados fictícios\n",
        "cursor.executemany(\"INSERT INTO clientes (id_cliente, nome_cliente) VALUES (?, ?)\", [\n",
        "    (1, \"João\"),\n",
        "    (2, \"Maria\"),\n",
        "    (3, \"Ana\"),\n",
        "])\n",
        "cursor.executemany(\"INSERT INTO vendas (id_venda, id_cliente, data_venda) VALUES (?, ?, ?)\", [\n",
        "    (1, 1, \"2024-11-01\"),\n",
        "    (2, 1, \"2024-11-02\"),\n",
        "    (3, 1, \"2024-11-03\"),\n",
        "    (4, 2, \"2024-11-01\"),\n",
        "    (5, 2, \"2024-11-02\"),\n",
        "    (6, 2, \"2024-11-03\"),\n",
        "    (7, 2, \"2024-11-04\"),\n",
        "    (8, 2, \"2024-11-05\"),\n",
        "    (9, 2, \"2024-11-06\"),\n",
        "])\n",
        "\n",
        "# Query para encontrar clientes com mais de 5 compras em novembro de 2024\n",
        "query2 = \"\"\"\n",
        "SELECT c.nome_cliente, COUNT(v.id_venda) AS total_compras\n",
        "FROM clientes c\n",
        "JOIN vendas v ON c.id_cliente = v.id_cliente\n",
        "WHERE strftime('%Y-%m', v.data_venda) = '2024-11'\n",
        "GROUP BY c.nome_cliente\n",
        "HAVING total_compras > 5;\n",
        "\"\"\"\n",
        "result2 = pd.read_sql_query(query2, conn)\n",
        "print(\"\\nClientes com mais de 5 compras:\")\n",
        "print(result2)\n",
        "\n",
        "# Fechar a conexão\n",
        "conn.close()"
      ],
      "metadata": {
        "colab": {
          "base_uri": "https://localhost:8080/"
        },
        "id": "cM8OmfixDuYg",
        "outputId": "1c9afc4f-0127-4c9d-ddab-1338f38602f4"
      },
      "execution_count": 14,
      "outputs": [
        {
          "output_type": "stream",
          "name": "stdout",
          "text": [
            "\n",
            "Clientes com mais de 5 compras:\n",
            "  nome_cliente  total_compras\n",
            "0        Maria              6\n"
          ]
        }
      ]
    }
  ]
}